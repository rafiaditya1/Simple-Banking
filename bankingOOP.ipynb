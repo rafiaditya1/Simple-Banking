{
 "cells": [
  {
   "cell_type": "code",
   "execution_count": 15,
   "metadata": {},
   "outputs": [],
   "source": [
    "class Nasabah():\n",
    "    def __init__(self,nama,umur,jenis_kelamin):\n",
    "        self.nama = nama\n",
    "        self.umur = umur\n",
    "        self.jenis_kelamin = jenis_kelamin\n",
    "        \n",
    "    def informasi(self):\n",
    "        print(\"Informasi Nasabah\")\n",
    "        print(\"\")\n",
    "        print(\"Nama \", self.nama)\n",
    "        print(\"Umur \", self.umur)\n",
    "        print(\"Jenis Kelamin \", self.jenis_kelamin)\n",
    "        \n",
    "class Bank(Nasabah):\n",
    "    def __init__(self,nama,umur,jenis_kelamin):\n",
    "        super().__init__(nama,umur,jenis_kelamin)\n",
    "        self.saldo = 0\n",
    "        \n",
    "    def setor(self,nominal):\n",
    "        self.nominal = nominal\n",
    "        self.saldo = self.saldo + self.nominal\n",
    "        print(\"Saldo anda saat ini: Rp\", self.saldo)\n",
    "        \n",
    "    def tarik(self,nominal):\n",
    "        self.nominal = nominal\n",
    "        if self.nominal > self.saldo:\n",
    "            print(\"Transaksi tidak dapat dilakukan | Saldo anda: Rp\", self.saldo)\n",
    "        else:\n",
    "            self.saldo = self.saldo - self.nominal\n",
    "            print(\"Saldo anda saat ini: Rp\", self.saldo)\n",
    "            \n",
    "    def cek_saldo(self):\n",
    "        print(\"Saldo anda: Rp\", self.saldo)\n",
    "    "
   ]
  },
  {
   "cell_type": "code",
   "execution_count": 16,
   "metadata": {},
   "outputs": [],
   "source": [
    "rafi = Bank('rafi',19, 'pria')"
   ]
  },
  {
   "cell_type": "code",
   "execution_count": 17,
   "metadata": {},
   "outputs": [
    {
     "name": "stdout",
     "output_type": "stream",
     "text": [
      "Saldo anda saat ini: Rp 100\n"
     ]
    }
   ],
   "source": [
    "rafi.setor(100)"
   ]
  },
  {
   "cell_type": "code",
   "execution_count": 18,
   "metadata": {},
   "outputs": [
    {
     "name": "stdout",
     "output_type": "stream",
     "text": [
      "Saldo anda saat ini: Rp 50\n"
     ]
    }
   ],
   "source": [
    "rafi.tarik(50)"
   ]
  },
  {
   "cell_type": "code",
   "execution_count": 19,
   "metadata": {},
   "outputs": [
    {
     "name": "stdout",
     "output_type": "stream",
     "text": [
      "Transaksi tidak dapat dilakukan | Saldo anda: Rp 50\n"
     ]
    }
   ],
   "source": [
    "rafi.tarik(60)"
   ]
  },
  {
   "cell_type": "code",
   "execution_count": 20,
   "metadata": {},
   "outputs": [
    {
     "name": "stdout",
     "output_type": "stream",
     "text": [
      "Saldo anda saat ini: Rp 0\n"
     ]
    }
   ],
   "source": [
    "rafi.tarik(50)"
   ]
  },
  {
   "cell_type": "code",
   "execution_count": 21,
   "metadata": {},
   "outputs": [
    {
     "name": "stdout",
     "output_type": "stream",
     "text": [
      "Saldo anda: Rp 0\n"
     ]
    }
   ],
   "source": [
    "rafi.cek_saldo()"
   ]
  },
  {
   "cell_type": "code",
   "execution_count": 22,
   "metadata": {},
   "outputs": [
    {
     "name": "stdout",
     "output_type": "stream",
     "text": [
      "Transaksi tidak dapat dilakukan | Saldo anda: Rp 0\n"
     ]
    }
   ],
   "source": [
    "rafi.tarik(10)"
   ]
  },
  {
   "cell_type": "raw",
   "metadata": {},
   "source": []
  }
 ],
 "metadata": {
  "kernelspec": {
   "display_name": "Python 3",
   "language": "python",
   "name": "python3"
  },
  "language_info": {
   "codemirror_mode": {
    "name": "ipython",
    "version": 3
   },
   "file_extension": ".py",
   "mimetype": "text/x-python",
   "name": "python",
   "nbconvert_exporter": "python",
   "pygments_lexer": "ipython3",
   "version": "3.8.3"
  }
 },
 "nbformat": 4,
 "nbformat_minor": 4
}
